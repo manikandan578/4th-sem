{
 "cells": [
  {
   "cell_type": "markdown",
   "id": "c1d0a300",
   "metadata": {},
   "source": [
    "# install numpy library"
   ]
  },
  {
   "cell_type": "code",
   "execution_count": 2,
   "id": "44a15966",
   "metadata": {},
   "outputs": [
    {
     "name": "stdout",
     "output_type": "stream",
     "text": [
      "Requirement already satisfied: numpy in c:\\users\\admin\\anaconda3\\lib\\site-packages (1.24.4)\n",
      "Note: you may need to restart the kernel to use updated packages.\n"
     ]
    }
   ],
   "source": [
    "pip install numpy"
   ]
  },
  {
   "cell_type": "markdown",
   "id": "3a281b49",
   "metadata": {},
   "source": [
    "# Numpy Arry Operactions"
   ]
  },
  {
   "cell_type": "markdown",
   "id": "ebbd0370",
   "metadata": {},
   "source": [
    "# 1.Importing library"
   ]
  },
  {
   "cell_type": "code",
   "execution_count": 3,
   "id": "ac82d7bf",
   "metadata": {},
   "outputs": [],
   "source": [
    "import numpy as np"
   ]
  },
  {
   "cell_type": "markdown",
   "id": "aa16be10",
   "metadata": {},
   "source": [
    "# 2.Numpy Version Check"
   ]
  },
  {
   "cell_type": "code",
   "execution_count": 4,
   "id": "c679e861",
   "metadata": {},
   "outputs": [
    {
     "data": {
      "text/plain": [
       "'1.24.4'"
      ]
     },
     "execution_count": 4,
     "metadata": {},
     "output_type": "execute_result"
    }
   ],
   "source": [
    "np.version.version"
   ]
  },
  {
   "cell_type": "markdown",
   "id": "864724d6",
   "metadata": {},
   "source": [
    "# 3.1 Creating 1D array "
   ]
  },
  {
   "cell_type": "markdown",
   "id": "29c5d543",
   "metadata": {},
   "source": [
    "# 1.syntax :numpy.array([Values])"
   ]
  },
  {
   "cell_type": "markdown",
   "id": "638923a9",
   "metadata": {},
   "source": [
    "# 2. Values:Elements in the array"
   ]
  },
  {
   "cell_type": "code",
   "execution_count": 5,
   "id": "ffcaf34c",
   "metadata": {},
   "outputs": [],
   "source": [
    "first_array = np.array([1,2,3,4,5])"
   ]
  },
  {
   "cell_type": "markdown",
   "id": "16da85e2",
   "metadata": {},
   "source": [
    "# 3.2 printing 1D array"
   ]
  },
  {
   "cell_type": "code",
   "execution_count": 6,
   "id": "1f92af03",
   "metadata": {},
   "outputs": [
    {
     "name": "stdout",
     "output_type": "stream",
     "text": [
      "[1 2 3 4 5]\n"
     ]
    }
   ],
   "source": [
    "print(first_array)"
   ]
  },
  {
   "cell_type": "markdown",
   "id": "f66bcff7",
   "metadata": {},
   "source": [
    "# 4.TWO DIMESIONAL ARRAY"
   ]
  },
  {
   "cell_type": "markdown",
   "id": "12f22142",
   "metadata": {},
   "source": [
    "# syntax: numpy.array([values 1],[values 2])"
   ]
  },
  {
   "cell_type": "markdown",
   "id": "dd527739",
   "metadata": {},
   "source": [
    "# 2. values: elements in the array"
   ]
  },
  {
   "cell_type": "code",
   "execution_count": 7,
   "id": "32a2f356",
   "metadata": {},
   "outputs": [],
   "source": [
    "second_array = np.array([(4,5,6),(7,8,9)]) "
   ]
  },
  {
   "cell_type": "code",
   "execution_count": 8,
   "id": "df59fad7",
   "metadata": {},
   "outputs": [
    {
     "name": "stdout",
     "output_type": "stream",
     "text": [
      "[[4 5 6]\n",
      " [7 8 9]]\n"
     ]
    }
   ],
   "source": [
    "print(second_array)"
   ]
  },
  {
   "cell_type": "markdown",
   "id": "b77ef5c7",
   "metadata": {},
   "source": [
    "# 5.np.array"
   ]
  },
  {
   "cell_type": "code",
   "execution_count": 9,
   "id": "ce4e428a",
   "metadata": {},
   "outputs": [],
   "source": [
    "third_array = np.array([[(10,11,12),(13,14,15)],[(16,17,18),(13,14,15)]])"
   ]
  },
  {
   "cell_type": "code",
   "execution_count": 10,
   "id": "53a9ecc0",
   "metadata": {},
   "outputs": [
    {
     "name": "stdout",
     "output_type": "stream",
     "text": [
      "[[[10 11 12]\n",
      "  [13 14 15]]\n",
      "\n",
      " [[16 17 18]\n",
      "  [13 14 15]]]\n"
     ]
    }
   ],
   "source": [
    "print(third_array )"
   ]
  },
  {
   "cell_type": "markdown",
   "id": "0eadde95",
   "metadata": {},
   "source": [
    "# 6.zero array"
   ]
  },
  {
   "cell_type": "code",
   "execution_count": 35,
   "id": "0c6bdd13",
   "metadata": {},
   "outputs": [],
   "source": [
    "zero_array = np.zeros((22,7))"
   ]
  },
  {
   "cell_type": "code",
   "execution_count": 36,
   "id": "841dbe1d",
   "metadata": {},
   "outputs": [
    {
     "name": "stdout",
     "output_type": "stream",
     "text": [
      "[[0. 0. 0. 0. 0. 0. 0.]\n",
      " [0. 0. 0. 0. 0. 0. 0.]\n",
      " [0. 0. 0. 0. 0. 0. 0.]\n",
      " [0. 0. 0. 0. 0. 0. 0.]\n",
      " [0. 0. 0. 0. 0. 0. 0.]\n",
      " [0. 0. 0. 0. 0. 0. 0.]\n",
      " [0. 0. 0. 0. 0. 0. 0.]\n",
      " [0. 0. 0. 0. 0. 0. 0.]\n",
      " [0. 0. 0. 0. 0. 0. 0.]\n",
      " [0. 0. 0. 0. 0. 0. 0.]\n",
      " [0. 0. 0. 0. 0. 0. 0.]\n",
      " [0. 0. 0. 0. 0. 0. 0.]\n",
      " [0. 0. 0. 0. 0. 0. 0.]\n",
      " [0. 0. 0. 0. 0. 0. 0.]\n",
      " [0. 0. 0. 0. 0. 0. 0.]\n",
      " [0. 0. 0. 0. 0. 0. 0.]\n",
      " [0. 0. 0. 0. 0. 0. 0.]\n",
      " [0. 0. 0. 0. 0. 0. 0.]\n",
      " [0. 0. 0. 0. 0. 0. 0.]\n",
      " [0. 0. 0. 0. 0. 0. 0.]\n",
      " [0. 0. 0. 0. 0. 0. 0.]\n",
      " [0. 0. 0. 0. 0. 0. 0.]]\n"
     ]
    }
   ],
   "source": [
    "print(zero_array)"
   ]
  },
  {
   "cell_type": "markdown",
   "id": "7efcff2e",
   "metadata": {},
   "source": [
    "# 7.Ones array"
   ]
  },
  {
   "cell_type": "code",
   "execution_count": 43,
   "id": "b8c93256",
   "metadata": {},
   "outputs": [],
   "source": [
    "ones_array = np.ones((4,6))"
   ]
  },
  {
   "cell_type": "code",
   "execution_count": 44,
   "id": "85fba8b2",
   "metadata": {},
   "outputs": [
    {
     "name": "stdout",
     "output_type": "stream",
     "text": [
      "[[1. 1. 1. 1. 1. 1.]\n",
      " [1. 1. 1. 1. 1. 1.]\n",
      " [1. 1. 1. 1. 1. 1.]\n",
      " [1. 1. 1. 1. 1. 1.]]\n"
     ]
    }
   ],
   "source": [
    "print(ones_array)"
   ]
  },
  {
   "cell_type": "markdown",
   "id": "708c6eef",
   "metadata": {},
   "source": [
    "# 8.Linspace"
   ]
  },
  {
   "cell_type": "code",
   "execution_count": 70,
   "id": "7473e6b7",
   "metadata": {},
   "outputs": [],
   "source": [
    "spaced_num = np.linspace(0,20,10)"
   ]
  },
  {
   "cell_type": "code",
   "execution_count": 71,
   "id": "26a87373",
   "metadata": {},
   "outputs": [
    {
     "name": "stdout",
     "output_type": "stream",
     "text": [
      "[ 0.          2.22222222  4.44444444  6.66666667  8.88888889 11.11111111\n",
      " 13.33333333 15.55555556 17.77777778 20.        ]\n"
     ]
    }
   ],
   "source": [
    "print(spaced_num)"
   ]
  },
  {
   "cell_type": "markdown",
   "id": "0cee5ebd",
   "metadata": {},
   "source": [
    "# creating array"
   ]
  },
  {
   "cell_type": "code",
   "execution_count": 76,
   "id": "beef9210",
   "metadata": {},
   "outputs": [],
   "source": [
    "my_array = np.array([6,7,8])"
   ]
  },
  {
   "cell_type": "code",
   "execution_count": 77,
   "id": "f410f197",
   "metadata": {},
   "outputs": [
    {
     "name": "stdout",
     "output_type": "stream",
     "text": [
      "[6 7 8]\n"
     ]
    }
   ],
   "source": [
    "print(my_array)"
   ]
  },
  {
   "cell_type": "code",
   "execution_count": 78,
   "id": "9e3ad12a",
   "metadata": {},
   "outputs": [],
   "source": [
    "arr_ones = np.ones([3,4])"
   ]
  },
  {
   "cell_type": "code",
   "execution_count": 79,
   "id": "6e6a8df2",
   "metadata": {},
   "outputs": [
    {
     "name": "stdout",
     "output_type": "stream",
     "text": [
      "[[1. 1. 1. 1.]\n",
      " [1. 1. 1. 1.]\n",
      " [1. 1. 1. 1.]]\n"
     ]
    }
   ],
   "source": [
    "print(arr_ones )"
   ]
  },
  {
   "cell_type": "code",
   "execution_count": 80,
   "id": "8d08b4fe",
   "metadata": {},
   "outputs": [],
   "source": [
    "my_matrix = np.array([(11,23,45),(22,55,89)])"
   ]
  },
  {
   "cell_type": "code",
   "execution_count": 81,
   "id": "8e699a7f",
   "metadata": {},
   "outputs": [
    {
     "name": "stdout",
     "output_type": "stream",
     "text": [
      "[[11 23 45]\n",
      " [22 55 89]]\n"
     ]
    }
   ],
   "source": [
    "print(my_matrix)"
   ]
  },
  {
   "cell_type": "markdown",
   "id": "4f3c7b59",
   "metadata": {},
   "source": [
    "# transpose"
   ]
  },
  {
   "cell_type": "code",
   "execution_count": 85,
   "id": "5ef35493",
   "metadata": {},
   "outputs": [],
   "source": [
    "matrix_transpose = np.transpose(my_matrix)"
   ]
  },
  {
   "cell_type": "code",
   "execution_count": 86,
   "id": "55186e7f",
   "metadata": {},
   "outputs": [
    {
     "name": "stdout",
     "output_type": "stream",
     "text": [
      "[[11 22]\n",
      " [23 55]\n",
      " [45 89]]\n"
     ]
    }
   ],
   "source": [
    "print(matrix_transpose)"
   ]
  },
  {
   "cell_type": "code",
   "execution_count": 88,
   "id": "abf7ad05",
   "metadata": {},
   "outputs": [
    {
     "data": {
      "text/plain": [
       "array([1., 1., 1., 1., 1., 1., 1., 1., 1., 1., 1., 1.])"
      ]
     },
     "execution_count": 88,
     "metadata": {},
     "output_type": "execute_result"
    }
   ],
   "source": [
    "arr_ones.ravel()"
   ]
  },
  {
   "cell_type": "code",
   "execution_count": 89,
   "id": "edcf5361",
   "metadata": {},
   "outputs": [
    {
     "data": {
      "text/plain": [
       "array([6, 7, 8])"
      ]
     },
     "execution_count": 89,
     "metadata": {},
     "output_type": "execute_result"
    }
   ],
   "source": [
    "my_array.ravel()"
   ]
  },
  {
   "cell_type": "code",
   "execution_count": 90,
   "id": "d056c517",
   "metadata": {},
   "outputs": [
    {
     "data": {
      "text/plain": [
       "array([11, 23, 45, 22, 55, 89])"
      ]
     },
     "execution_count": 90,
     "metadata": {},
     "output_type": "execute_result"
    }
   ],
   "source": [
    "my_matrix.ravel()"
   ]
  },
  {
   "cell_type": "code",
   "execution_count": 95,
   "id": "5c271344",
   "metadata": {},
   "outputs": [
    {
     "data": {
      "text/plain": [
       "array([[6],\n",
       "       [7],\n",
       "       [8]])"
      ]
     },
     "execution_count": 95,
     "metadata": {},
     "output_type": "execute_result"
    }
   ],
   "source": [
    "my_array.reshape(3,1)"
   ]
  },
  {
   "cell_type": "code",
   "execution_count": 98,
   "id": "dc8a06ce",
   "metadata": {},
   "outputs": [
    {
     "data": {
      "text/plain": [
       "array([[1., 1., 1., 1.],\n",
       "       [1., 1., 1., 1.],\n",
       "       [1., 1., 1., 1.]])"
      ]
     },
     "execution_count": 98,
     "metadata": {},
     "output_type": "execute_result"
    }
   ],
   "source": [
    "arr_ones.reshape(3,4)"
   ]
  },
  {
   "cell_type": "code",
   "execution_count": 105,
   "id": "ded5f3dd",
   "metadata": {},
   "outputs": [
    {
     "data": {
      "text/plain": [
       "array([[11, 23],\n",
       "       [45, 22],\n",
       "       [55, 89]])"
      ]
     },
     "execution_count": 105,
     "metadata": {},
     "output_type": "execute_result"
    }
   ],
   "source": [
    "my_matrix.reshape(3,2)"
   ]
  },
  {
   "cell_type": "code",
   "execution_count": 106,
   "id": "353cde43",
   "metadata": {},
   "outputs": [
    {
     "data": {
      "text/plain": [
       "array([[1., 1., 1., 1.],\n",
       "       [1., 1., 1., 1.],\n",
       "       [1., 1., 1., 1.]])"
      ]
     },
     "execution_count": 106,
     "metadata": {},
     "output_type": "execute_result"
    }
   ],
   "source": [
    "arr_ones"
   ]
  },
  {
   "cell_type": "markdown",
   "id": "56d585ef",
   "metadata": {},
   "source": [
    "# Array with Random Number"
   ]
  },
  {
   "cell_type": "code",
   "execution_count": 114,
   "id": "f7c425d7",
   "metadata": {},
   "outputs": [
    {
     "data": {
      "text/plain": [
       "array([[0.13595293, 0.3146693 , 0.16360492, 0.80753811],\n",
       "       [0.0254022 , 0.16855209, 0.04967567, 0.21002432],\n",
       "       [0.80573411, 0.34419558, 0.49615626, 0.35026615],\n",
       "       [0.61417563, 0.1545087 , 0.57604526, 0.94181686]])"
      ]
     },
     "execution_count": 114,
     "metadata": {},
     "output_type": "execute_result"
    }
   ],
   "source": [
    "np.random.random([4,4])"
   ]
  },
  {
   "cell_type": "code",
   "execution_count": null,
   "id": "606b7a12",
   "metadata": {},
   "outputs": [],
   "source": []
  }
 ],
 "metadata": {
  "kernelspec": {
   "display_name": "Python 3 (ipykernel)",
   "language": "python",
   "name": "python3"
  },
  "language_info": {
   "codemirror_mode": {
    "name": "ipython",
    "version": 3
   },
   "file_extension": ".py",
   "mimetype": "text/x-python",
   "name": "python",
   "nbconvert_exporter": "python",
   "pygments_lexer": "ipython3",
   "version": "3.9.13"
  }
 },
 "nbformat": 4,
 "nbformat_minor": 5
}

{
 "cells": [
  {
   "cell_type": "code",
   "execution_count": 4,
   "id": "dd9cbec3",
   "metadata": {},
   "outputs": [
    {
     "name": "stdout",
     "output_type": "stream",
     "text": [
      "Requirement already satisfied: pandas in c:\\users\\admin\\anaconda3\\envs\\foundationofai\\lib\\site-packages (2.1.1)\n",
      "Requirement already satisfied: numpy>=1.22.4 in c:\\users\\admin\\anaconda3\\envs\\foundationofai\\lib\\site-packages (from pandas) (1.25.2)\n",
      "Requirement already satisfied: python-dateutil>=2.8.2 in c:\\users\\admin\\anaconda3\\envs\\foundationofai\\lib\\site-packages (from pandas) (2.8.2)\n",
      "Requirement already satisfied: pytz>=2020.1 in c:\\users\\admin\\anaconda3\\envs\\foundationofai\\lib\\site-packages (from pandas) (2023.3.post1)\n",
      "Requirement already satisfied: tzdata>=2022.1 in c:\\users\\admin\\anaconda3\\envs\\foundationofai\\lib\\site-packages (from pandas) (2023.3)\n",
      "Requirement already satisfied: six>=1.5 in c:\\users\\admin\\anaconda3\\envs\\foundationofai\\lib\\site-packages (from python-dateutil>=2.8.2->pandas) (1.16.0)\n",
      "Note: you may need to restart the kernel to use updated packages.\n"
     ]
    }
   ],
   "source": [
    "pip install pandas"
   ]
  },
  {
   "cell_type": "code",
   "execution_count": 62,
   "id": "a62cacf6",
   "metadata": {},
   "outputs": [],
   "source": [
    "import pandas as pd"
   ]
  },
  {
   "cell_type": "code",
   "execution_count": 7,
   "id": "f681a220",
   "metadata": {},
   "outputs": [
    {
     "data": {
      "text/plain": [
       "'2.1.1'"
      ]
     },
     "execution_count": 7,
     "metadata": {},
     "output_type": "execute_result"
    }
   ],
   "source": [
    "pd.__version__"
   ]
  },
  {
   "cell_type": "code",
   "execution_count": 18,
   "id": "32d799da",
   "metadata": {},
   "outputs": [],
   "source": [
    "a1=pd.Series(['one',2,3,4,5],index=[0,1,2,3,4])"
   ]
  },
  {
   "cell_type": "code",
   "execution_count": 19,
   "id": "697fa73a",
   "metadata": {},
   "outputs": [
    {
     "name": "stdout",
     "output_type": "stream",
     "text": [
      "0    one\n",
      "1      2\n",
      "2      3\n",
      "3      4\n",
      "4      5\n",
      "dtype: object\n"
     ]
    }
   ],
   "source": [
    "print(a1)"
   ]
  },
  {
   "cell_type": "code",
   "execution_count": 21,
   "id": "e220532e",
   "metadata": {},
   "outputs": [],
   "source": [
    "season={\"rainy\":{1:'nov',2:'dec',3:'jan',4:'feb'},\"dry\":{1:'mar',2:'ab',3:'may',4:'ju'}}"
   ]
  },
  {
   "cell_type": "code",
   "execution_count": 23,
   "id": "9927b2c8",
   "metadata": {},
   "outputs": [],
   "source": [
    "d=pd.DataFrame(season,columns=[\"rainy\",\"dry\"])"
   ]
  },
  {
   "cell_type": "code",
   "execution_count": 24,
   "id": "358c4249",
   "metadata": {},
   "outputs": [
    {
     "data": {
      "text/html": [
       "<div>\n",
       "<style scoped>\n",
       "    .dataframe tbody tr th:only-of-type {\n",
       "        vertical-align: middle;\n",
       "    }\n",
       "\n",
       "    .dataframe tbody tr th {\n",
       "        vertical-align: top;\n",
       "    }\n",
       "\n",
       "    .dataframe thead th {\n",
       "        text-align: right;\n",
       "    }\n",
       "</style>\n",
       "<table border=\"1\" class=\"dataframe\">\n",
       "  <thead>\n",
       "    <tr style=\"text-align: right;\">\n",
       "      <th></th>\n",
       "      <th>rainy</th>\n",
       "      <th>dry</th>\n",
       "    </tr>\n",
       "  </thead>\n",
       "  <tbody>\n",
       "    <tr>\n",
       "      <th>1</th>\n",
       "      <td>nov</td>\n",
       "      <td>mar</td>\n",
       "    </tr>\n",
       "    <tr>\n",
       "      <th>2</th>\n",
       "      <td>dec</td>\n",
       "      <td>ab</td>\n",
       "    </tr>\n",
       "    <tr>\n",
       "      <th>3</th>\n",
       "      <td>jan</td>\n",
       "      <td>may</td>\n",
       "    </tr>\n",
       "    <tr>\n",
       "      <th>4</th>\n",
       "      <td>feb</td>\n",
       "      <td>ju</td>\n",
       "    </tr>\n",
       "  </tbody>\n",
       "</table>\n",
       "</div>"
      ],
      "text/plain": [
       "  rainy  dry\n",
       "1   nov  mar\n",
       "2   dec   ab\n",
       "3   jan  may\n",
       "4   feb   ju"
      ]
     },
     "execution_count": 24,
     "metadata": {},
     "output_type": "execute_result"
    }
   ],
   "source": [
    "d"
   ]
  },
  {
   "cell_type": "code",
   "execution_count": 25,
   "id": "9ca39f73",
   "metadata": {},
   "outputs": [],
   "source": [
    "season={\"bike\":{1:'xl100',2:'tvs50'},\"superbike\":{1:'pulsar',2:'NS'}}"
   ]
  },
  {
   "cell_type": "code",
   "execution_count": 27,
   "id": "61d4056c",
   "metadata": {},
   "outputs": [],
   "source": [
    "d=pd.DataFrame(season,columns=[\"bike\",\"superbike\"])"
   ]
  },
  {
   "cell_type": "code",
   "execution_count": 28,
   "id": "432fa2e5",
   "metadata": {},
   "outputs": [
    {
     "data": {
      "text/html": [
       "<div>\n",
       "<style scoped>\n",
       "    .dataframe tbody tr th:only-of-type {\n",
       "        vertical-align: middle;\n",
       "    }\n",
       "\n",
       "    .dataframe tbody tr th {\n",
       "        vertical-align: top;\n",
       "    }\n",
       "\n",
       "    .dataframe thead th {\n",
       "        text-align: right;\n",
       "    }\n",
       "</style>\n",
       "<table border=\"1\" class=\"dataframe\">\n",
       "  <thead>\n",
       "    <tr style=\"text-align: right;\">\n",
       "      <th></th>\n",
       "      <th>bike</th>\n",
       "      <th>superbike</th>\n",
       "    </tr>\n",
       "  </thead>\n",
       "  <tbody>\n",
       "    <tr>\n",
       "      <th>1</th>\n",
       "      <td>xl100</td>\n",
       "      <td>pulsar</td>\n",
       "    </tr>\n",
       "    <tr>\n",
       "      <th>2</th>\n",
       "      <td>tvs50</td>\n",
       "      <td>NS</td>\n",
       "    </tr>\n",
       "  </tbody>\n",
       "</table>\n",
       "</div>"
      ],
      "text/plain": [
       "    bike superbike\n",
       "1  xl100    pulsar\n",
       "2  tvs50        NS"
      ]
     },
     "execution_count": 28,
     "metadata": {},
     "output_type": "execute_result"
    }
   ],
   "source": [
    "d"
   ]
  },
  {
   "cell_type": "code",
   "execution_count": 29,
   "id": "9b6f688e",
   "metadata": {},
   "outputs": [],
   "source": [
    "seaon={\"normalmovie\":{1:'Fatman',2:'A Cool Fish',3:'A Dark Foe'},\"comedymovie\":{1:'A Deadly Legend',2:'Up',3:'The Dark Knight'},\"tamil movie\":{1:'Bama Vijayam',2:'Ponniyin Selvan'\n",
    "\n",
    "\n",
    ",3:'Vikram'}}"
   ]
  },
  {
   "cell_type": "code",
   "execution_count": 33,
   "id": "2a49cdb7",
   "metadata": {},
   "outputs": [],
   "source": [
    "d=pd.DataFrame(seaon,columns=[\"normalmovie\",\"comedymovie\",\"tamil movie\"])"
   ]
  },
  {
   "cell_type": "code",
   "execution_count": 34,
   "id": "7a3d6e3a",
   "metadata": {},
   "outputs": [
    {
     "data": {
      "text/html": [
       "<div>\n",
       "<style scoped>\n",
       "    .dataframe tbody tr th:only-of-type {\n",
       "        vertical-align: middle;\n",
       "    }\n",
       "\n",
       "    .dataframe tbody tr th {\n",
       "        vertical-align: top;\n",
       "    }\n",
       "\n",
       "    .dataframe thead th {\n",
       "        text-align: right;\n",
       "    }\n",
       "</style>\n",
       "<table border=\"1\" class=\"dataframe\">\n",
       "  <thead>\n",
       "    <tr style=\"text-align: right;\">\n",
       "      <th></th>\n",
       "      <th>normalmovie</th>\n",
       "      <th>comedymovie</th>\n",
       "      <th>tamil movie</th>\n",
       "    </tr>\n",
       "  </thead>\n",
       "  <tbody>\n",
       "    <tr>\n",
       "      <th>1</th>\n",
       "      <td>Fatman</td>\n",
       "      <td>A Deadly Legend</td>\n",
       "      <td>Bama Vijayam</td>\n",
       "    </tr>\n",
       "    <tr>\n",
       "      <th>2</th>\n",
       "      <td>A Cool Fish</td>\n",
       "      <td>Up</td>\n",
       "      <td>Ponniyin Selvan</td>\n",
       "    </tr>\n",
       "    <tr>\n",
       "      <th>3</th>\n",
       "      <td>A Dark Foe</td>\n",
       "      <td>The Dark Knight</td>\n",
       "      <td>Vikram</td>\n",
       "    </tr>\n",
       "  </tbody>\n",
       "</table>\n",
       "</div>"
      ],
      "text/plain": [
       "   normalmovie      comedymovie      tamil movie\n",
       "1       Fatman  A Deadly Legend     Bama Vijayam\n",
       "2  A Cool Fish               Up  Ponniyin Selvan\n",
       "3   A Dark Foe  The Dark Knight           Vikram"
      ]
     },
     "execution_count": 34,
     "metadata": {},
     "output_type": "execute_result"
    }
   ],
   "source": [
    "d"
   ]
  },
  {
   "cell_type": "code",
   "execution_count": 63,
   "id": "4f85e274",
   "metadata": {},
   "outputs": [],
   "source": [
    "import numpy as np"
   ]
  },
  {
   "cell_type": "code",
   "execution_count": 40,
   "id": "a0387c3b",
   "metadata": {},
   "outputs": [],
   "source": [
    "a=pd.DataFrame(np.random.randint(100,200,size=(15,5)),columns=list('abcdf'))"
   ]
  },
  {
   "cell_type": "code",
   "execution_count": 41,
   "id": "68778496",
   "metadata": {},
   "outputs": [
    {
     "data": {
      "text/html": [
       "<div>\n",
       "<style scoped>\n",
       "    .dataframe tbody tr th:only-of-type {\n",
       "        vertical-align: middle;\n",
       "    }\n",
       "\n",
       "    .dataframe tbody tr th {\n",
       "        vertical-align: top;\n",
       "    }\n",
       "\n",
       "    .dataframe thead th {\n",
       "        text-align: right;\n",
       "    }\n",
       "</style>\n",
       "<table border=\"1\" class=\"dataframe\">\n",
       "  <thead>\n",
       "    <tr style=\"text-align: right;\">\n",
       "      <th></th>\n",
       "      <th>a</th>\n",
       "      <th>b</th>\n",
       "      <th>c</th>\n",
       "      <th>d</th>\n",
       "      <th>f</th>\n",
       "    </tr>\n",
       "  </thead>\n",
       "  <tbody>\n",
       "    <tr>\n",
       "      <th>0</th>\n",
       "      <td>194</td>\n",
       "      <td>122</td>\n",
       "      <td>188</td>\n",
       "      <td>153</td>\n",
       "      <td>101</td>\n",
       "    </tr>\n",
       "    <tr>\n",
       "      <th>1</th>\n",
       "      <td>118</td>\n",
       "      <td>114</td>\n",
       "      <td>101</td>\n",
       "      <td>176</td>\n",
       "      <td>115</td>\n",
       "    </tr>\n",
       "    <tr>\n",
       "      <th>2</th>\n",
       "      <td>109</td>\n",
       "      <td>188</td>\n",
       "      <td>102</td>\n",
       "      <td>199</td>\n",
       "      <td>166</td>\n",
       "    </tr>\n",
       "    <tr>\n",
       "      <th>3</th>\n",
       "      <td>130</td>\n",
       "      <td>155</td>\n",
       "      <td>126</td>\n",
       "      <td>184</td>\n",
       "      <td>181</td>\n",
       "    </tr>\n",
       "    <tr>\n",
       "      <th>4</th>\n",
       "      <td>183</td>\n",
       "      <td>124</td>\n",
       "      <td>152</td>\n",
       "      <td>145</td>\n",
       "      <td>111</td>\n",
       "    </tr>\n",
       "    <tr>\n",
       "      <th>5</th>\n",
       "      <td>162</td>\n",
       "      <td>185</td>\n",
       "      <td>157</td>\n",
       "      <td>160</td>\n",
       "      <td>162</td>\n",
       "    </tr>\n",
       "    <tr>\n",
       "      <th>6</th>\n",
       "      <td>124</td>\n",
       "      <td>153</td>\n",
       "      <td>115</td>\n",
       "      <td>185</td>\n",
       "      <td>137</td>\n",
       "    </tr>\n",
       "    <tr>\n",
       "      <th>7</th>\n",
       "      <td>142</td>\n",
       "      <td>103</td>\n",
       "      <td>191</td>\n",
       "      <td>136</td>\n",
       "      <td>133</td>\n",
       "    </tr>\n",
       "    <tr>\n",
       "      <th>8</th>\n",
       "      <td>162</td>\n",
       "      <td>149</td>\n",
       "      <td>141</td>\n",
       "      <td>178</td>\n",
       "      <td>156</td>\n",
       "    </tr>\n",
       "    <tr>\n",
       "      <th>9</th>\n",
       "      <td>113</td>\n",
       "      <td>141</td>\n",
       "      <td>180</td>\n",
       "      <td>144</td>\n",
       "      <td>155</td>\n",
       "    </tr>\n",
       "    <tr>\n",
       "      <th>10</th>\n",
       "      <td>158</td>\n",
       "      <td>177</td>\n",
       "      <td>178</td>\n",
       "      <td>169</td>\n",
       "      <td>184</td>\n",
       "    </tr>\n",
       "    <tr>\n",
       "      <th>11</th>\n",
       "      <td>168</td>\n",
       "      <td>128</td>\n",
       "      <td>197</td>\n",
       "      <td>102</td>\n",
       "      <td>181</td>\n",
       "    </tr>\n",
       "    <tr>\n",
       "      <th>12</th>\n",
       "      <td>104</td>\n",
       "      <td>196</td>\n",
       "      <td>145</td>\n",
       "      <td>128</td>\n",
       "      <td>117</td>\n",
       "    </tr>\n",
       "    <tr>\n",
       "      <th>13</th>\n",
       "      <td>156</td>\n",
       "      <td>183</td>\n",
       "      <td>156</td>\n",
       "      <td>124</td>\n",
       "      <td>103</td>\n",
       "    </tr>\n",
       "    <tr>\n",
       "      <th>14</th>\n",
       "      <td>153</td>\n",
       "      <td>111</td>\n",
       "      <td>155</td>\n",
       "      <td>168</td>\n",
       "      <td>144</td>\n",
       "    </tr>\n",
       "  </tbody>\n",
       "</table>\n",
       "</div>"
      ],
      "text/plain": [
       "      a    b    c    d    f\n",
       "0   194  122  188  153  101\n",
       "1   118  114  101  176  115\n",
       "2   109  188  102  199  166\n",
       "3   130  155  126  184  181\n",
       "4   183  124  152  145  111\n",
       "5   162  185  157  160  162\n",
       "6   124  153  115  185  137\n",
       "7   142  103  191  136  133\n",
       "8   162  149  141  178  156\n",
       "9   113  141  180  144  155\n",
       "10  158  177  178  169  184\n",
       "11  168  128  197  102  181\n",
       "12  104  196  145  128  117\n",
       "13  156  183  156  124  103\n",
       "14  153  111  155  168  144"
      ]
     },
     "execution_count": 41,
     "metadata": {},
     "output_type": "execute_result"
    }
   ],
   "source": [
    "a"
   ]
  },
  {
   "cell_type": "code",
   "execution_count": 46,
   "id": "321ec718",
   "metadata": {},
   "outputs": [],
   "source": [
    "a.to_csv('C:/Users/Admin/Music/4th sem  MANIKANDAN/pandas.csv')"
   ]
  },
  {
   "cell_type": "code",
   "execution_count": 47,
   "id": "70803d45",
   "metadata": {},
   "outputs": [],
   "source": [
    "d=pd.read_csv('C:/Users/Admin/Music/4th sem  MANIKANDAN/pandas.csv')"
   ]
  },
  {
   "cell_type": "code",
   "execution_count": 48,
   "id": "ab9d31d8",
   "metadata": {},
   "outputs": [
    {
     "data": {
      "text/html": [
       "<div>\n",
       "<style scoped>\n",
       "    .dataframe tbody tr th:only-of-type {\n",
       "        vertical-align: middle;\n",
       "    }\n",
       "\n",
       "    .dataframe tbody tr th {\n",
       "        vertical-align: top;\n",
       "    }\n",
       "\n",
       "    .dataframe thead th {\n",
       "        text-align: right;\n",
       "    }\n",
       "</style>\n",
       "<table border=\"1\" class=\"dataframe\">\n",
       "  <thead>\n",
       "    <tr style=\"text-align: right;\">\n",
       "      <th></th>\n",
       "      <th>Unnamed: 0</th>\n",
       "      <th>a</th>\n",
       "      <th>b</th>\n",
       "      <th>c</th>\n",
       "      <th>d</th>\n",
       "      <th>f</th>\n",
       "    </tr>\n",
       "  </thead>\n",
       "  <tbody>\n",
       "    <tr>\n",
       "      <th>0</th>\n",
       "      <td>0</td>\n",
       "      <td>194</td>\n",
       "      <td>122</td>\n",
       "      <td>188</td>\n",
       "      <td>153</td>\n",
       "      <td>101</td>\n",
       "    </tr>\n",
       "    <tr>\n",
       "      <th>1</th>\n",
       "      <td>1</td>\n",
       "      <td>118</td>\n",
       "      <td>114</td>\n",
       "      <td>101</td>\n",
       "      <td>176</td>\n",
       "      <td>115</td>\n",
       "    </tr>\n",
       "    <tr>\n",
       "      <th>2</th>\n",
       "      <td>2</td>\n",
       "      <td>109</td>\n",
       "      <td>188</td>\n",
       "      <td>102</td>\n",
       "      <td>199</td>\n",
       "      <td>166</td>\n",
       "    </tr>\n",
       "    <tr>\n",
       "      <th>3</th>\n",
       "      <td>3</td>\n",
       "      <td>130</td>\n",
       "      <td>155</td>\n",
       "      <td>126</td>\n",
       "      <td>184</td>\n",
       "      <td>181</td>\n",
       "    </tr>\n",
       "    <tr>\n",
       "      <th>4</th>\n",
       "      <td>4</td>\n",
       "      <td>183</td>\n",
       "      <td>124</td>\n",
       "      <td>152</td>\n",
       "      <td>145</td>\n",
       "      <td>111</td>\n",
       "    </tr>\n",
       "    <tr>\n",
       "      <th>5</th>\n",
       "      <td>5</td>\n",
       "      <td>162</td>\n",
       "      <td>185</td>\n",
       "      <td>157</td>\n",
       "      <td>160</td>\n",
       "      <td>162</td>\n",
       "    </tr>\n",
       "    <tr>\n",
       "      <th>6</th>\n",
       "      <td>6</td>\n",
       "      <td>124</td>\n",
       "      <td>153</td>\n",
       "      <td>115</td>\n",
       "      <td>185</td>\n",
       "      <td>137</td>\n",
       "    </tr>\n",
       "    <tr>\n",
       "      <th>7</th>\n",
       "      <td>7</td>\n",
       "      <td>142</td>\n",
       "      <td>103</td>\n",
       "      <td>191</td>\n",
       "      <td>136</td>\n",
       "      <td>133</td>\n",
       "    </tr>\n",
       "    <tr>\n",
       "      <th>8</th>\n",
       "      <td>8</td>\n",
       "      <td>162</td>\n",
       "      <td>149</td>\n",
       "      <td>141</td>\n",
       "      <td>178</td>\n",
       "      <td>156</td>\n",
       "    </tr>\n",
       "    <tr>\n",
       "      <th>9</th>\n",
       "      <td>9</td>\n",
       "      <td>113</td>\n",
       "      <td>141</td>\n",
       "      <td>180</td>\n",
       "      <td>144</td>\n",
       "      <td>155</td>\n",
       "    </tr>\n",
       "    <tr>\n",
       "      <th>10</th>\n",
       "      <td>10</td>\n",
       "      <td>158</td>\n",
       "      <td>177</td>\n",
       "      <td>178</td>\n",
       "      <td>169</td>\n",
       "      <td>184</td>\n",
       "    </tr>\n",
       "    <tr>\n",
       "      <th>11</th>\n",
       "      <td>11</td>\n",
       "      <td>168</td>\n",
       "      <td>128</td>\n",
       "      <td>197</td>\n",
       "      <td>102</td>\n",
       "      <td>181</td>\n",
       "    </tr>\n",
       "    <tr>\n",
       "      <th>12</th>\n",
       "      <td>12</td>\n",
       "      <td>104</td>\n",
       "      <td>196</td>\n",
       "      <td>145</td>\n",
       "      <td>128</td>\n",
       "      <td>117</td>\n",
       "    </tr>\n",
       "    <tr>\n",
       "      <th>13</th>\n",
       "      <td>13</td>\n",
       "      <td>156</td>\n",
       "      <td>183</td>\n",
       "      <td>156</td>\n",
       "      <td>124</td>\n",
       "      <td>103</td>\n",
       "    </tr>\n",
       "    <tr>\n",
       "      <th>14</th>\n",
       "      <td>14</td>\n",
       "      <td>153</td>\n",
       "      <td>111</td>\n",
       "      <td>155</td>\n",
       "      <td>168</td>\n",
       "      <td>144</td>\n",
       "    </tr>\n",
       "  </tbody>\n",
       "</table>\n",
       "</div>"
      ],
      "text/plain": [
       "    Unnamed: 0    a    b    c    d    f\n",
       "0            0  194  122  188  153  101\n",
       "1            1  118  114  101  176  115\n",
       "2            2  109  188  102  199  166\n",
       "3            3  130  155  126  184  181\n",
       "4            4  183  124  152  145  111\n",
       "5            5  162  185  157  160  162\n",
       "6            6  124  153  115  185  137\n",
       "7            7  142  103  191  136  133\n",
       "8            8  162  149  141  178  156\n",
       "9            9  113  141  180  144  155\n",
       "10          10  158  177  178  169  184\n",
       "11          11  168  128  197  102  181\n",
       "12          12  104  196  145  128  117\n",
       "13          13  156  183  156  124  103\n",
       "14          14  153  111  155  168  144"
      ]
     },
     "execution_count": 48,
     "metadata": {},
     "output_type": "execute_result"
    }
   ],
   "source": [
    "d"
   ]
  },
  {
   "cell_type": "code",
   "execution_count": 64,
   "id": "ef04d02e",
   "metadata": {},
   "outputs": [],
   "source": [
    "import matplotlib.pyplot as plt\n",
    "from mpl_toolkits.mplot3d import Axes3D\n",
    "%matplotlib inline"
   ]
  },
  {
   "cell_type": "code",
   "execution_count": 65,
   "id": "01747195",
   "metadata": {},
   "outputs": [],
   "source": [
    "data={\"Game\":['GTA ViceCity','Free Fire','BUBG','Train'],\"Rating\":[7.5,8.2,9.0,3.9],\"Download\":[152367,789654,357941,582741]}"
   ]
  },
  {
   "cell_type": "code",
   "execution_count": 68,
   "id": "d42a6b83",
   "metadata": {},
   "outputs": [],
   "source": [
    "dataframe=pd.DataFrame(data,columns=[\"Game\",\"Rating\",\"Download\"])"
   ]
  },
  {
   "cell_type": "code",
   "execution_count": 69,
   "id": "91334940",
   "metadata": {},
   "outputs": [
    {
     "data": {
      "text/html": [
       "<div>\n",
       "<style scoped>\n",
       "    .dataframe tbody tr th:only-of-type {\n",
       "        vertical-align: middle;\n",
       "    }\n",
       "\n",
       "    .dataframe tbody tr th {\n",
       "        vertical-align: top;\n",
       "    }\n",
       "\n",
       "    .dataframe thead th {\n",
       "        text-align: right;\n",
       "    }\n",
       "</style>\n",
       "<table border=\"1\" class=\"dataframe\">\n",
       "  <thead>\n",
       "    <tr style=\"text-align: right;\">\n",
       "      <th></th>\n",
       "      <th>Game</th>\n",
       "      <th>Rating</th>\n",
       "      <th>Download</th>\n",
       "    </tr>\n",
       "  </thead>\n",
       "  <tbody>\n",
       "    <tr>\n",
       "      <th>0</th>\n",
       "      <td>GTA ViceCity</td>\n",
       "      <td>7.5</td>\n",
       "      <td>152367</td>\n",
       "    </tr>\n",
       "    <tr>\n",
       "      <th>1</th>\n",
       "      <td>Free Fire</td>\n",
       "      <td>8.2</td>\n",
       "      <td>789654</td>\n",
       "    </tr>\n",
       "    <tr>\n",
       "      <th>2</th>\n",
       "      <td>BUBG</td>\n",
       "      <td>9.0</td>\n",
       "      <td>357941</td>\n",
       "    </tr>\n",
       "    <tr>\n",
       "      <th>3</th>\n",
       "      <td>Train</td>\n",
       "      <td>3.9</td>\n",
       "      <td>582741</td>\n",
       "    </tr>\n",
       "  </tbody>\n",
       "</table>\n",
       "</div>"
      ],
      "text/plain": [
       "           Game  Rating  Download\n",
       "0  GTA ViceCity     7.5    152367\n",
       "1     Free Fire     8.2    789654\n",
       "2          BUBG     9.0    357941\n",
       "3         Train     3.9    582741"
      ]
     },
     "execution_count": 69,
     "metadata": {},
     "output_type": "execute_result"
    }
   ],
   "source": [
    "dataframe"
   ]
  },
  {
   "cell_type": "code",
   "execution_count": 75,
   "id": "f54db61a",
   "metadata": {},
   "outputs": [],
   "source": [
    "normalization_df=pd.DataFrame({'x':np.random.randint(-100,100,1000),\n",
    "                              'y':np.random.randint(-80,80,1000),\n",
    "                              'z':np.random.randint(-150,150,1000)})"
   ]
  },
  {
   "cell_type": "code",
   "execution_count": null,
   "id": "57220fe9",
   "metadata": {},
   "outputs": [],
   "source": []
  }
 ],
 "metadata": {
  "kernelspec": {
   "display_name": "Python 3 (ipykernel)",
   "language": "python",
   "name": "python3"
  },
  "language_info": {
   "codemirror_mode": {
    "name": "ipython",
    "version": 3
   },
   "file_extension": ".py",
   "mimetype": "text/x-python",
   "name": "python",
   "nbconvert_exporter": "python",
   "pygments_lexer": "ipython3",
   "version": "3.9.17"
  }
 },
 "nbformat": 4,
 "nbformat_minor": 5
}
